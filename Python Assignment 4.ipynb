{
 "cells": [
  {
   "cell_type": "markdown",
   "metadata": {},
   "source": [
    "1.1 Write a Python Program(with class concepts) to find the area of the triangle using the below  formula. \n",
    "\n",
    "area = (s*(s-a)*(s-b)*(s-c)) ** 0.5 \n",
    "\n",
    "Function to take the length of the sides of triangle from user should be defined in the parent  class and function to calculate the area should be defined in subclass\n"
   ]
  },
  {
   "cell_type": "code",
   "execution_count": 6,
   "metadata": {},
   "outputs": [
    {
     "name": "stdout",
     "output_type": "stream",
     "text": [
      "Enter a ,b ,c by using space:-10 25 30\n",
      "117.09371246996997\n"
     ]
    }
   ],
   "source": [
    "class Triangle:\n",
    "    def __init__(self , a,b,c):\n",
    "        self.a = a\n",
    "        self.b = b\n",
    "        self.c = c\n",
    "class area_of_triangle(Triangle):\n",
    "    def area(self):\n",
    "        s = ((self.a+self.b+self.c)/2)\n",
    "        return ((s*(s-self.a)*(s-self.b)*(s-self.c))**0.5)\n",
    "    \n",
    "    \n",
    "    \n",
    "a,b,c = map(int ,input(\"Enter a ,b ,c by using space:-\").split(\" \"))\n",
    "area_calculation = area_of_triangle(a,b,c)\n",
    "print(area_calculation.area())"
   ]
  },
  {
   "cell_type": "code",
   "execution_count": null,
   "metadata": {},
   "outputs": [],
   "source": []
  },
  {
   "cell_type": "markdown",
   "metadata": {},
   "source": [
    "1.2 Write a function filter_long_words() that takes a list of words and an integer n and returns  the list of words that are longer than n. \n",
    "\n"
   ]
  },
  {
   "cell_type": "code",
   "execution_count": 13,
   "metadata": {},
   "outputs": [
    {
     "name": "stdout",
     "output_type": "stream",
     "text": [
      "['mangoes', 'orange', 'papaya', 'watermelon']\n"
     ]
    }
   ],
   "source": [
    "def filter_long_words(a , n):\n",
    "    b=[]\n",
    "    for i in a:\n",
    "        length = len(i)\n",
    "        if length>n:\n",
    "            b.append(i)\n",
    "        else:\n",
    "            pass\n",
    "    return b\n",
    "\n",
    "a=[\"lemon\",\"mangoes\",\"apple\",\"orange\",\"papaya\",\"watermelon\"]\n",
    "n=5\n",
    "#a=list(a for a in input(\"\").split(\" \"))\n",
    "#n=int(input(\"\"))\n",
    "print(filter_long_words(a , n))\n",
    "\n",
    "        \n",
    "    "
   ]
  },
  {
   "cell_type": "code",
   "execution_count": null,
   "metadata": {},
   "outputs": [],
   "source": []
  },
  {
   "cell_type": "markdown",
   "metadata": {},
   "source": [
    "2.1 Write a Python program using function concept that maps list of words into a list of integers  representing the lengths of the corresponding words. \n",
    "Hint: If a list [ ab , cde , erty] is passed on to the python function output should come as [2,3,4] Here 2,3 and 4 are the lengths of the words in the list. \n"
   ]
  },
  {
   "cell_type": "code",
   "execution_count": 16,
   "metadata": {},
   "outputs": [
    {
     "name": "stdout",
     "output_type": "stream",
     "text": [
      "[2, 3, 4]\n"
     ]
    }
   ],
   "source": [
    "def fun1(n):\n",
    "    return len(n)\n",
    "\n",
    "\n",
    "a=[\"ab\",\"cde\",\"erty\"]\n",
    "b=list(map(fun1, a))\n",
    "print(b)"
   ]
  },
  {
   "cell_type": "code",
   "execution_count": null,
   "metadata": {},
   "outputs": [],
   "source": []
  },
  {
   "cell_type": "markdown",
   "metadata": {},
   "source": [
    "2.2 Write a Python function which takes a character (i.e. a string of length 1) and returns True if  it is a vowel, False otherwise. "
   ]
  },
  {
   "cell_type": "code",
   "execution_count": 18,
   "metadata": {},
   "outputs": [
    {
     "name": "stdout",
     "output_type": "stream",
     "text": [
      "True\n",
      "False\n",
      "False\n",
      "False\n",
      "False\n",
      "True\n",
      "False\n",
      "False\n",
      "False\n",
      "True\n",
      "False\n",
      "False\n",
      "False\n",
      "True\n",
      "True\n"
     ]
    }
   ],
   "source": [
    "def charr(a):\n",
    "    if a==\"a\" or a==\"e\" or a==\"i\" or a==\"o\" or a==\"u\" or a==\"A\" or a==\"E\" or a==\"I\" or a==\"O\" or a==\"U\":\n",
    "        return True\n",
    "    else:\n",
    "        return False\n",
    "    \n",
    "s=\"\" \n",
    "for i in s:\n",
    "    print(charr(i))\n"
   ]
  },
  {
   "cell_type": "code",
   "execution_count": null,
   "metadata": {},
   "outputs": [],
   "source": []
  }
 ],
 "metadata": {
  "kernelspec": {
   "display_name": "Python 3",
   "language": "python",
   "name": "python3"
  },
  "language_info": {
   "codemirror_mode": {
    "name": "ipython",
    "version": 3
   },
   "file_extension": ".py",
   "mimetype": "text/x-python",
   "name": "python",
   "nbconvert_exporter": "python",
   "pygments_lexer": "ipython3",
   "version": "3.7.4"
  }
 },
 "nbformat": 4,
 "nbformat_minor": 2
}
