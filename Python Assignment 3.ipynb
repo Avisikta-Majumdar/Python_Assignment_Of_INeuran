{
 "cells": [
  {
   "cell_type": "markdown",
   "metadata": {},
   "source": [
    "# 1.1 Write a Python Program to implement your own myreduce() function which works exactly  like Python's built-in function reduce() "
   ]
  },
  {
   "cell_type": "code",
   "execution_count": 4,
   "metadata": {},
   "outputs": [
    {
     "name": "stdout",
     "output_type": "stream",
     "text": [
      "The sum of all the elements present in the list is :- 15\n"
     ]
    }
   ],
   "source": [
    "def myreduce(add,iterable):# We want to get the sum of all the elements present in the list\n",
    "    first =iterable[0]\n",
    "    for i in iterable[1:]:\n",
    "        first = add(first,i)\n",
    "    return first\n",
    "\n",
    "def add(a,b):\n",
    "    return a+b\n",
    "#Example 1\n",
    "lst1 = [1,2,3,4,5]\n",
    "sum_of_all_nos = myreduce(add,lst1)\n",
    "print(\"The sum of all the elements present in the list is :- {}\".format(sum_of_all_nos))\n"
   ]
  },
  {
   "cell_type": "code",
   "execution_count": null,
   "metadata": {},
   "outputs": [],
   "source": []
  },
  {
   "cell_type": "code",
   "execution_count": null,
   "metadata": {},
   "outputs": [],
   "source": []
  },
  {
   "cell_type": "markdown",
   "metadata": {},
   "source": [
    "# 1.2 Write a Python program to implement your own myfilter() function which works exactly  like Python's built-in function filter() "
   ]
  },
  {
   "cell_type": "code",
   "execution_count": 25,
   "metadata": {},
   "outputs": [
    {
     "name": "stdout",
     "output_type": "stream",
     "text": [
      "Example 1 :-[1, 11, 2, 9, 3]\n",
      "\n",
      "Example 2 :-[15, 85, 36, 74]\n"
     ]
    }
   ],
   "source": [
    "#Using our own fliter method we will convert float , int, string into integer value\n",
    "def myfilter(lst):\n",
    "    new_list =[]\n",
    "    for i in lst:\n",
    "        new = int(i)\n",
    "        new_list.append(new)\n",
    "    return new_list\n",
    "#Example 1\n",
    "l1= [1,11.5,2.6,9.2,3.5]\n",
    "res_1 = myfilter(l1)\n",
    "print(\"Example 1 :-{a}\".format(a = res_1))\n",
    "\n",
    "#Example 2\n",
    "l2= ['15','85','36','74']\n",
    "res_2 = myfilter(l2)\n",
    "print(\"\\nExample 2 :-{a}\".format(a = res_2))"
   ]
  },
  {
   "cell_type": "code",
   "execution_count": null,
   "metadata": {},
   "outputs": [],
   "source": []
  },
  {
   "cell_type": "markdown",
   "metadata": {},
   "source": [
    "# 2. Implement List comprehensions to produce the following lists.  \n",
    "# Write List comprehensions to produce the following Lists \n"
   ]
  },
  {
   "cell_type": "markdown",
   "metadata": {},
   "source": [
    "q1) ['A', 'C', 'A', 'D', 'G', 'I', ’L’, ‘ D’]  "
   ]
  },
  {
   "cell_type": "code",
   "execution_count": 27,
   "metadata": {},
   "outputs": [
    {
     "name": "stdout",
     "output_type": "stream",
     "text": [
      "['A', 'C', 'A', 'D', 'G', 'I', 'L', 'D']\n"
     ]
    }
   ],
   "source": [
    "string = \"ACADGILD\"\n",
    "LIST=[m for m in string]\n",
    "print(LIST)\n"
   ]
  },
  {
   "cell_type": "code",
   "execution_count": null,
   "metadata": {},
   "outputs": [],
   "source": []
  },
  {
   "cell_type": "markdown",
   "metadata": {},
   "source": [
    "q2) ['x', 'xx', 'xxx', 'xxxx', 'y', 'yy', 'yyy', 'yyyy', 'z', 'zz', 'zzz', 'zzzz']  "
   ]
  },
  {
   "cell_type": "code",
   "execution_count": 30,
   "metadata": {},
   "outputs": [
    {
     "name": "stdout",
     "output_type": "stream",
     "text": [
      "['x', 'xx', 'xxx', 'xxxx', 'y', 'yy', 'yyy', 'yyyy', 'z', 'zz', 'zzz', 'zzzz']\n"
     ]
    }
   ],
   "source": [
    "string = \"xyz\"\n",
    "LIST=[m*i for m in string for i in range(1,5) ]\n",
    "print(LIST)"
   ]
  },
  {
   "cell_type": "code",
   "execution_count": null,
   "metadata": {},
   "outputs": [],
   "source": []
  },
  {
   "cell_type": "markdown",
   "metadata": {},
   "source": [
    "q3)['x', 'y', 'z', 'xx', 'yy', 'zz', 'xxx', 'yyy', 'zzz', 'xxxx', 'yyyy', 'zzzz']"
   ]
  },
  {
   "cell_type": "code",
   "execution_count": 34,
   "metadata": {},
   "outputs": [
    {
     "name": "stdout",
     "output_type": "stream",
     "text": [
      "['x', 'y', 'z', 'xx', 'yy', 'zz', 'xxx', 'yyy', 'zzz', 'xxxx', 'yyyy', 'zzzz']\n"
     ]
    }
   ],
   "source": [
    "string = \"xyz\"\n",
    "LIST=[m*i for i in range(1,5)  for m in string]\n",
    "print(LIST)"
   ]
  },
  {
   "cell_type": "code",
   "execution_count": null,
   "metadata": {},
   "outputs": [],
   "source": []
  },
  {
   "cell_type": "markdown",
   "metadata": {},
   "source": [
    "q4)\n",
    "[[2], [3], [4], [3], [4], [5], [4], [5], [6]] [[2, 3, 4, 5], [3, 4, 5, 6],  \n",
    "[4, 5, 6, 7], [5, 6, 7, 8]] \n"
   ]
  },
  {
   "cell_type": "code",
   "execution_count": 29,
   "metadata": {},
   "outputs": [
    {
     "name": "stdout",
     "output_type": "stream",
     "text": [
      "[[2], [3], [4], [3], [4], [5], [4], [5], [6]] [[2, 3, 4, 5], [3, 4, 5, 6], [4, 5, 6, 7], [5, 6, 7, 8]]\n"
     ]
    }
   ],
   "source": [
    "lst = [int(x) for x in range(1,9)]\n",
    "new_lst1=[]\n",
    "new_lst2=[]\n",
    "ed=1\n",
    "for i in range(3):\n",
    "    ed+=1\n",
    "    for l in range(ed,ed+3):\n",
    "        sd =[]\n",
    "        sd.append(l)\n",
    "        new_lst1.append(sd)\n",
    "\n",
    "m=1\n",
    "for j in range(4):#2nd option\n",
    "    n = []\n",
    "    m+=1\n",
    "    for k in range(m , m+4):\n",
    "        n.append(k)\n",
    "    new_lst2.append(n)\n",
    "print(new_lst1,new_lst2)\n",
    "        \n",
    "    "
   ]
  },
  {
   "cell_type": "code",
   "execution_count": null,
   "metadata": {},
   "outputs": [],
   "source": []
  },
  {
   "cell_type": "markdown",
   "metadata": {},
   "source": [
    "q5) [(1, 1), (2, 1), (3, 1), (1, 2), (2, 2), (3, 2), (1, 3), (2, 3), (3, 3)]"
   ]
  },
  {
   "cell_type": "code",
   "execution_count": 7,
   "metadata": {},
   "outputs": [
    {
     "name": "stdout",
     "output_type": "stream",
     "text": [
      "[(1, 1), (2, 1), (3, 1), (1, 2), (2, 2), (3, 2), (1, 3), (2, 3), (3, 3)]\n"
     ]
    }
   ],
   "source": [
    "lst = [1,2,3]\n",
    "new_list = []\n",
    "for i in lst:\n",
    "    for j in lst:\n",
    "        a= [j,i]\n",
    "        a = tuple(a)\n",
    "        new_list.append(a)\n",
    "        \n",
    "print(new_list)\n",
    "    "
   ]
  },
  {
   "cell_type": "code",
   "execution_count": null,
   "metadata": {},
   "outputs": [],
   "source": []
  }
 ],
 "metadata": {
  "kernelspec": {
   "display_name": "Python 3",
   "language": "python",
   "name": "python3"
  },
  "language_info": {
   "codemirror_mode": {
    "name": "ipython",
    "version": 3
   },
   "file_extension": ".py",
   "mimetype": "text/x-python",
   "name": "python",
   "nbconvert_exporter": "python",
   "pygments_lexer": "ipython3",
   "version": "3.7.4"
  }
 },
 "nbformat": 4,
 "nbformat_minor": 2
}
